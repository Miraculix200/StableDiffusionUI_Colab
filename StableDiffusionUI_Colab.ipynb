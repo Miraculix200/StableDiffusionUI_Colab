{
  "cells": [
    {
      "cell_type": "markdown",
      "metadata": {
        "id": "tpxrvweeyZGx"
      },
      "source": [
        "# Simple SD Webui Launcher\n",
        "\n",
        "### One-click launch Stable Diffusion Webui for Google Colab. No accounts/tokens required. \n",
        "\n",
        "Select options then run the cell.\n",
        "\n",
        "Cloning webui repository from https://github.com/AUTOMATIC1111/stable-diffusion-webui\n",
        "\n",
        "Previous version of this notebook: https://colab.research.google.com/github/Miraculix200/StableDiffusionUI_Colab/blob/main/StableDiffusionUI_Colab_old.ipynb"
      ]
    },
    {
      "cell_type": "markdown",
      "metadata": {
        "id": "sBFZK2uKN8LR"
      },
      "source": [
        "## tl;dr infos\n",
        "\n"
      ]
    },
    {
      "cell_type": "markdown",
      "metadata": {
        "id": "aUjjTIXcgZBn"
      },
      "source": [
        "### Manual\n",
        "\n",
        "Click button, wait a few minutes, click URL displayed in console output"
      ]
    },
    {
      "cell_type": "markdown",
      "metadata": {
        "id": "ioTH_KFSgZBn"
      },
      "source": [
        "### Models used in the settings"
      ]
    },
    {
      "cell_type": "markdown",
      "metadata": {
        "id": "x8DDyCL2OIoh"
      },
      "source": [
        "https://huggingface.co/Linaqruf/anything-v3.0  \n",
        "https://huggingface.co/SpiteAnon/gigachad-diffusion  \n",
        "https://huggingface.co/prompthero/midjourney-v4-diffusion  \n",
        "https://huggingface.co/nitrosocke/mo-di-diffusion  \n",
        "https://huggingface.co/TheLastBen/hrrzg-style-768px  \n",
        "https://huggingface.co/acheong08/f222  \n",
        "https://huggingface.co/acheong08/secretAI  \n",
        "https://huggingface.co/hakurei/waifu-diffusion-v1-4  \n",
        "https://huggingface.co/julienacquaviva/inpainting  \n",
        "https://huggingface.co/acheong08/SD-V1-5-cloned  "
      ]
    },
    {
      "cell_type": "markdown",
      "metadata": {
        "id": "3AMzB3dIgZBo"
      },
      "source": [
        "### Description of options\n",
        "\n",
        "`mount_gdrive`: Mounts Google Drive for permanent storage of some folder (embeddings, models, repositories)  \n",
        "`install_default_settings`: Download some better default settings for the webui  \n",
        "`install_image_browser_extension`: Installs image browser extension   \n",
        "`install_tag_editor_extension`: Installs dataset tag editor extension useful for training embeddings/hypernetworks  \n",
        "`use_localtunnel`: Use localtunnel reverse proxy instead of gradio  \n",
        "`ngrok_token`: Enter a ngrok token here to use ngrok reverse proxy instead of localtunnel/gradio  \n"
      ]
    },
    {
      "cell_type": "markdown",
      "metadata": {},
      "source": [
        "### Dreambooth support (beta)\n",
        "\n",
        "Dreambooth support is messy on free Google Colab, because there is not enough system RAM to convert .ckpt to diffusers or diffusers to .ckpt. There is enough RAM and VRAM for some types of training however.\n",
        "\n",
        "Use the `Import Model from Huggingface Hub` in the Dreambooth extension to clone a model from Huggingface to start training with.\n",
        "\n",
        "After the training, when the webui crashes or becomes unresponsive, you have to run the cell at the end of this notebook which converts the diffusers into a Stable Diffusion checkpoint.\n",
        "\n",
        "When the Dreambooth extension is installed, there may also be some errors while starting the webui. Dreambooth training will work anyway, so you can ignore them.\n",
        "\n",
        "#### Recommended settings in the Dreambooth extension tab in the webui:\n",
        "\n",
        "#### Create Model tab:\n",
        "\n",
        "If you don't have Google Colab Pro, check `Import Model from Huggingface Hub` and enter `runwayml/stable-diffusion-v1-5` into the `Model Path` textbox\n",
        "\n",
        "#### Train Model tab:\n",
        "\n",
        "`Total number of classification images`: Number of (optional) class images you uploaded  \n",
        "`Training steps`: 1200 for faces, 400 for objects (see [here](https://huggingface.co/blog/dreambooth#summary-of-initial-results))  \n",
        "`Learning rate`: 0.000001 or 0.000002  \n",
        "`Save a checkpoint every N steps`: 9000 (doesn't work properly right now)  \n",
        "`Generate a preview image every N steps`: 9000  \n",
        "\n",
        "#### Advanced:\n",
        "\n",
        "These 2 options are mandatory, otherwise the webui will crash because of low VRAM\n",
        "\n",
        "`Use 8bit Adam`: True  \n",
        "`Mixed Precision`: fp16  \n",
        "\n",
        "As of now (November 20th, 2022), you can leave the default values for most other options\n",
        "\n",
        "See https://www.youtube.com/watch?v=HahKXY7AQ8c for a turorial how to use the extension"
      ]
    },
    {
      "cell_type": "markdown",
      "metadata": {
        "id": "BWS0HmAUOZL_"
      },
      "source": [
        "# Launch webui\n",
        "\n",
        "Run this cell to start the webui"
      ]
    },
    {
      "cell_type": "code",
      "execution_count": null,
      "metadata": {
        "cellView": "form",
        "id": "D7RguUlafGWN"
      },
      "outputs": [],
      "source": [
        "#@markdown # Mount Google Drive to speed up webui launch\n",
        "#@markdown Default folders on Google Drive: `embeddings`, `repositories`, `models`\n",
        "mount_gdrive = True #@param {type:\"boolean\"}\n",
        "\n",
        "#@markdown # Install default settings and extensions\n",
        "#install_xformers = False #@param {type:\"boolean\"}\n",
        "install_default_settings = True #@param {type:\"boolean\"}\n",
        "install_image_browser_extension = True #@param {type:\"boolean\"}\n",
        "install_tag_editor_extension = False #@param {type:\"boolean\"}\n",
        "#install_dreambooth_extension = False #@param {type:\"boolean\"}\n",
        "install_dreambooth_extension = False\n",
        "\n",
        "#@markdown # Choose one or more models to download\n",
        "#@markdown Set all to `False` if model is already present on Google Drive\n",
        "model_15 = False #@param {type:\"boolean\"}\n",
        "model_inpainting = False #@param {type:\"boolean\"}\n",
        "model_anything_v3 = False #@param {type:\"boolean\"}\n",
        "#model_anythingXtron = False #@param {type:\"boolean\"}\n",
        "model_fred_herzog = False #@param {type:\"boolean\"}\n",
        "model_f222 = False #@param {type:\"boolean\"}\n",
        "model_secret_ai = False #@param {type:\"boolean\"}\n",
        "model_waifu = False #@param {type:\"boolean\"}\n",
        "model_gigachad = False #@param {type:\"boolean\"}\n",
        "model_midjourney_v4 = False #@param {type:\"boolean\"}\n",
        "model_modern_disney_style = False #@param {type:\"boolean\"}\n",
        "\n",
        "#@markdown # Run localtunnel or ngrok reverse proxy instead of gradio\n",
        "use_localtunnel = True #@param {type:\"boolean\"}\n",
        "ngrok_token = \"\" #@param {type:\"string\"}\n",
        "ngrok_region = \"eu\" #@param [\"us\", \"eu\", \"ap\", \"au\", \"sa\", \"jp\", \"in\"] {type:\"raw\"}\n",
        "\n",
        "#@markdown # Additional commandline parameters and launch options\n",
        "#@markdown See https://github.com/AUTOMATIC1111/stable-diffusion-webui/wiki/Command-Line-Arguments-and-Settings\n",
        "cmd_line_params = \"--gradio-debug --disable-console-progressbars\" #@param {type:\"string\"}\n",
        "webui_port = 9001 #@param {type:\"integer\"}\n",
        "\n",
        "#@markdown # Credentials for login to the webui (not necessary)\n",
        "webui_username = \"\" #@param {type:\"string\"}\n",
        "webui_password = \"\" #@param {type:\"string\"}\n",
        "\n",
        "######################################################\n",
        "\n",
        "CFG_URL = \"https://raw.githubusercontent.com/Miraculix200/StableDiffusionUI_Colab/main/config.json\"\n",
        "CFG_UI_URL = \"https://raw.githubusercontent.com/Miraculix200/StableDiffusionUI_Colab/main/ui-config.json\"\n",
        "XFORMERS_URL = \"https://github.com/metrolobo/xformers_wheels/releases/download/1d31a3ac_various_6/xformers-0.0.14.dev0-cp37-cp37m-linux_x86_64.whl\"\n",
        "\n",
        "# models which don't require a Huggingface token\n",
        "MODEL_INPAINTING_URL = \"https://huggingface.co/julienacquaviva/inpainting/resolve/main/sd-v1-5-inpainting.ckpt\"\n",
        "MODEL_15_URL = \"https://huggingface.co/acheong08/SD-V1-5-cloned/resolve/main/v1-5-pruned-emaonly.ckpt\"\n",
        "\n",
        "webui_drive_folder = \"/content/drive/MyDrive/SD_webui_Colab/\"\n",
        "webui_folder = \"/content/stable-diffusion-webui/\"\n",
        "\n",
        "models_folder = webui_folder + \"models/Stable-diffusion/\"\n",
        "\n",
        "######################################################\n",
        "\n",
        "import os, time\n",
        "from google.colab import drive\n",
        "\n",
        "# list of folder to be linked to gdrive\n",
        "def linkFoldersGdrive():\n",
        "  mvToGdrive(\"embeddings\")\n",
        "  #mvToGdrive(\"extensions\")\n",
        "  #mvToGdrive(\"textual_inversion\")\n",
        "  mvToGdrive(\"repositories\")\n",
        "  mvToGdrive(\"models\")\n",
        "  #mvToGdrive(\"outputs\")\n",
        "\n",
        "# function for creating folders on gdrive and symlinks\n",
        "def mvToGdrive(path_from_webui_root):\n",
        "  if not os.path.exists(webui_drive_folder + path_from_webui_root):\n",
        "    print(\"Creating folder: \" + webui_drive_folder + path_from_webui_root)\n",
        "    !mkdir -p {webui_drive_folder}{path_from_webui_root}\n",
        "\n",
        "  if not os.path.islink(webui_folder + path_from_webui_root):\n",
        "    if os.path.exists(webui_folder + path_from_webui_root):\n",
        "      print(\"Copying folder: \" + webui_folder + path_from_webui_root)\n",
        "      !cp -r {webui_folder}{path_from_webui_root} {webui_drive_folder}\n",
        "      print(\"Deleting folder: \" + webui_folder + path_from_webui_root)\n",
        "      !rm -rf {webui_folder}{path_from_webui_root}\n",
        "\n",
        "    !ln -sv {webui_drive_folder}{path_from_webui_root} {webui_folder}{path_from_webui_root}\n",
        "\n",
        "######################################################\n",
        "\n",
        "# check GPU availability\n",
        "!nvidia-smi --query-gpu=name,memory.total,memory.free --format=csv,noheader\n",
        "\n",
        "# # install xformers\n",
        "# if install_xformers:\n",
        "#   %pip install -q {XFORMERS_URL}\n",
        "#   %pip install -q -U --pre triton\n",
        "#   cmd_line_params = cmd_line_params + \" --force-enable-xformers\"\n",
        "\n",
        "# mount google drive\n",
        "if mount_gdrive:\n",
        "  drive.mount('/content/drive')\n",
        "\n",
        "# clone webui repo\n",
        "!git clone --depth 1 https://github.com/AUTOMATIC1111/stable-diffusion-webui {webui_folder}\n",
        "\n",
        "# download default settings\n",
        "if install_default_settings:\n",
        "  %cd /content/stable-diffusion-webui\n",
        "  if not os.path.exists(webui_folder + \"config.json\"):\n",
        "    !wget {CFG_URL}\n",
        "  if not os.path.exists(webui_folder + \"ui-config.json\"):\n",
        "    !wget {CFG_UI_URL}\n",
        "\n",
        "# install image browser extension\n",
        "if install_image_browser_extension:\n",
        "  %cd {webui_folder}extensions\n",
        "  if not os.path.exists('stable-diffusion-webui-images-browser'):\n",
        "    !git clone --depth 1 https://github.com/yfszzx/stable-diffusion-webui-images-browser\n",
        "\n",
        "# install Dataset Tag Editor extension\n",
        "if install_tag_editor_extension:\n",
        "  %cd {webui_folder}extensions\n",
        "  if not os.path.exists('stable-diffusion-webui-dataset-tag-editor'):\n",
        "    !git clone --depth 1 https://github.com/toshiaki1729/stable-diffusion-webui-dataset-tag-editor.git\n",
        "\n",
        "# dreambooth\n",
        "if install_dreambooth_extension:\n",
        "  !mkdir -p /content/dreambooth_ext/dataset_images\n",
        "  !mkdir -p /content/dreambooth_ext/class_images\n",
        "  \n",
        "  %cd /content/stable-diffusion-webui/extensions\n",
        "  !git clone --depth 1 https://github.com/d8ahazard/sd_dreambooth_extension.git\n",
        "\n",
        "  %pip install -qq git+https://github.com/ShivamShrirao/diffusers\n",
        "\n",
        "  %pip install torch==1.12.1+cu116 torchvision==0.13.1+cu116 --extra-index-url https://download.pytorch.org/whl/cu116\n",
        "  %pip install -q -U --pre triton\n",
        "  %pip install -q accelerate==0.12.0 bitsandbytes\n",
        "\n",
        "  %pip install -q https://github.com/metrolobo/xformers_wheels/releases/download/1d31a3ac_various_6/xformers-0.0.14.dev0-cp37-cp37m-linux_x86_64.whl\n",
        "  # These were compiled on Tesla T4, should also work on P100, thanks to https://github.com/metrolobo\n",
        "\n",
        "# copy/link folders to gdrive\n",
        "if mount_gdrive:\n",
        "  linkFoldersGdrive()\n",
        "\n",
        "#  # temporarily copy repositories from gdrive to session filesystem\n",
        "#  # note sure if necessary, so they can be updated by git\n",
        "#  repo_path = webui_folder + \"repositories\"\n",
        "#  if os.path.islink(repo_path):\n",
        "#    print(\"Deleting repositories symlink and copying repositories/ folder to local fs\")\n",
        "#    !rm {webui_folder}repositories\n",
        "#    !cp -rp {webui_drive_folder}repositories {webui_folder}repositories\n",
        "#    print(\"Installing requirements\")\n",
        "#    # install requirements and exit\n",
        "#    %cd {webui_folder}\n",
        "#    !COMMANDLINE_ARGS=\"--exit\" REQS_FILE=\"requirements.txt\" python launch.py\n",
        "#    mvToGdrive(\"repositories\")\n",
        "\n",
        "######################################################\n",
        "\n",
        "# download models\n",
        "%cd {models_folder}\n",
        "\n",
        "# download models\n",
        "if model_15:\n",
        "  !wget {MODEL_15_URL}\n",
        "  !wget https://huggingface.co/stabilityai/sd-vae-ft-mse-original/resolve/main/vae-ft-mse-840000-ema-pruned.ckpt -O v1-5-pruned-emaonly.vae.pt \n",
        "\n",
        "if model_inpainting:\n",
        "  !wget {MODEL_INPAINTING_URL}\n",
        "\n",
        "if model_anything_v3:\n",
        "  !wget https://huggingface.co/Linaqruf/anything-v3.0/resolve/main/Anything-V3.0-pruned.ckpt\n",
        "  !wget https://huggingface.co/Linaqruf/anything-v3.0/resolve/main/Anything-V3.0.vae.pt -O Anything-V3.0-pruned.vae.pt\n",
        "\n",
        "#if model_anythingXtron:\n",
        "#  !wget https://huggingface.co/CrasHthe2nd2/anything-tron/resolve/main/anythingXtron.ckpt\n",
        "#  !wget https://huggingface.co/CrasHthe2nd2/anything-tron/resolve/main/Anything-V3.0.vae.pt -O anythingXtron.vae.pt\n",
        "\n",
        "if model_gigachad:\n",
        "  !wget https://huggingface.co/SpiteAnon/gigachad-diffusion/resolve/main/gigachad_2000.ckpt\n",
        "\n",
        "if model_midjourney_v4:\n",
        "  !wget https://huggingface.co/prompthero/midjourney-v4-diffusion/resolve/main/mdjrny-v4.ckpt\n",
        "\n",
        "if model_modern_disney_style:\n",
        "  !wget https://huggingface.co/nitrosocke/mo-di-diffusion/resolve/main/moDi-v1-pruned.ckpt\n",
        "\n",
        "if model_fred_herzog:\n",
        "  !wget https://huggingface.co/TheLastBen/hrrzg-style-768px/resolve/main/hrrzg.ckpt\n",
        "\n",
        "if model_f222:\n",
        "  !wget https://huggingface.co/acheong08/f222/resolve/main/f222.ckpt\n",
        "\n",
        "if model_secret_ai:\n",
        "    !wget https://huggingface.co/acheong08/secretAI/resolve/main/stableckpt/animefull-final-pruned/model.ckpt -O secret_ai.ckpt\n",
        "    %cd {webui_folder}models/VAE/\n",
        "    !wget https://huggingface.co/acheong08/secretAI/resolve/main/stableckpt/animevae.pt\n",
        "    !mkdir -p {webui_folder}/models/hypernetworks/\n",
        "    %cd {webui_folder}models/hypernetworks/\n",
        "    !wget https://huggingface.co/acheong08/secretAI/resolve/main/stableckpt/modules/modules/aini.pt\n",
        "    !wget https://huggingface.co/acheong08/secretAI/resolve/main/stableckpt/modules/modules/anime.pt\n",
        "    !wget https://huggingface.co/acheong08/secretAI/resolve/main/stableckpt/modules/modules/anime_2.pt\n",
        "    !wget https://huggingface.co/acheong08/secretAI/resolve/main/stableckpt/modules/modules/anime_3.pt\n",
        "    !wget https://huggingface.co/acheong08/secretAI/resolve/main/stableckpt/modules/modules/furry.pt\n",
        "    !wget https://huggingface.co/acheong08/secretAI/resolve/main/stableckpt/modules/modules/furry_2.pt\n",
        "    !wget https://huggingface.co/acheong08/secretAI/resolve/main/stableckpt/modules/modules/furry_3.pt\n",
        "    !wget https://huggingface.co/acheong08/secretAI/resolve/main/stableckpt/modules/modules/furry_kemono.pt\n",
        "    !wget https://huggingface.co/acheong08/secretAI/resolve/main/stableckpt/modules/modules/furry_protogen.pt\n",
        "    !wget https://huggingface.co/acheong08/secretAI/resolve/main/stableckpt/modules/modules/furry_scalie.pt\n",
        "    !wget https://huggingface.co/acheong08/secretAI/resolve/main/stableckpt/modules/modules/furry_transformation.pt\n",
        "    !wget https://huggingface.co/acheong08/secretAI/resolve/main/stableckpt/modules/modules/pony.pt\n",
        "\n",
        "if model_waifu:\n",
        "  %cd {models_folder}\n",
        "  !wget https://huggingface.co/hakurei/waifu-diffusion-v1-4/resolve/main/models/wd-1-3-penultimate-ucg-cont.ckpt\n",
        "  %cd {webui_folder}models/VAE/\n",
        "  !wget https://huggingface.co/hakurei/waifu-diffusion-v1-4/resolve/main/vae/kl-f8-anime.ckpt\n",
        "  !wget https://huggingface.co/hakurei/waifu-diffusion-v1-4/resolve/main/vae/kl-f8-anime2.ckpt\n",
        "\n",
        "# count number of .ckpt files in models folder\n",
        "ckpt_count = 0\n",
        "\n",
        "for root, dirs, files in os.walk(models_folder):\n",
        "    for file in files:\n",
        "        if file.endswith(\".ckpt\"):\n",
        "             ckpt_count += 1\n",
        "\n",
        "# download model when no models are detected\n",
        "if ckpt_count < 1:\n",
        "  print('\u001b[1;31mNo models detected. Downloading default model')\n",
        "  %cd {models_folder}\n",
        "  !wget https://huggingface.co/SpiteAnon/gigachad-diffusion/resolve/main/gigachad_2000.ckpt\n",
        "\n",
        "######################################################\n",
        "\n",
        "# install and launch localtunnel\n",
        "if ngrok_token != \"\":\n",
        "  cmd_line_params = cmd_line_params + \" --ngrok \" + ngrok_token + \" --ngrok-region \" + ngrok_region\n",
        "elif use_localtunnel:\n",
        "  if not os.path.exists('/tools/node/bin/lt'):\n",
        "    print(\"Installing localtunnel\")\n",
        "    !npm install -g localtunnel\n",
        "  !nohup lt --port {str(webui_port)} > /content/srv.txt 2>&1 &\n",
        "  time.sleep(2)\n",
        "  print(\"The webui will run on this URL:\")\n",
        "  !grep -o 'https[^ ]*' /content/srv.txt\n",
        "else:\n",
        "  cmd_line_params = cmd_line_params + \" --share\"\n",
        "\n",
        "######################################################\n",
        "\n",
        "# launch webui\n",
        "%cd {webui_folder}\n",
        "\n",
        "cmd_line_params = cmd_line_params + \" --port \" + str(webui_port)\n",
        "\n",
        "if webui_username != \"\":\n",
        "  cmd_line_params = cmd_line_params + \" --gradio-auth \" + webui_username + \":\" + webui_password\n",
        "\n",
        "!sed -i -e 's/numpy==1.23.3/numpy==1.21.6/g' requirements_versions.txt\n",
        "!sed -i -e 's/fairscale==0.4.9/fairscale==0.4.6/g' requirements_versions.txt\n",
        "\n",
        "!python launch.py {cmd_line_params}\n",
        "\n",
        "######################################################"
      ]
    },
    {
      "cell_type": "markdown",
      "metadata": {
        "id": "Cgc0C7uvsXN7"
      },
      "source": [
        "# Optional cells"
      ]
    },
    {
      "cell_type": "markdown",
      "metadata": {
        "id": "qF0RyySWvAwt"
      },
      "source": [
        "## Zip images for downloading on local drive\n",
        "After running the cell, click the folder icon on the left, the one below {x}, search for `outputs.zip` in the `/content` folder"
      ]
    },
    {
      "cell_type": "code",
      "execution_count": null,
      "metadata": {
        "cellView": "form",
        "id": "9O9cSsBPu_Uu"
      },
      "outputs": [],
      "source": [
        "zip_folder = \"/content/stable-diffusion-webui/outputs\" #@param {type:\"string\"}\n",
        "!zip -r /content/outputs.zip {zip_folder}"
      ]
    },
    {
      "cell_type": "markdown",
      "metadata": {},
      "source": [
        "## Delete Google Drive permanent storage\n",
        "\n",
        "This cell removes `SD_webui_Colab` folder from Google Drive"
      ]
    },
    {
      "cell_type": "code",
      "execution_count": null,
      "metadata": {},
      "outputs": [],
      "source": [
        "drive_folder = \"SD_webui_Colab\"  #@param {type:\"string\"}\n",
        "if drive_folder == \"\":\n",
        "    print('\u001b[1;31mgood morning')\n",
        "else:\n",
        "    !rm -rf /content/drive/MyDrive/{drive_folder}\n",
        "    print(\"Folder deleted: \" + drive_folder)"
      ]
    },
    {
      "cell_type": "markdown",
      "metadata": {},
      "source": [
        "## Checkout pull request from AUTOMATIC1111 stable-diffusion-webui repository"
      ]
    },
    {
      "cell_type": "code",
      "execution_count": null,
      "metadata": {},
      "outputs": [],
      "source": [
        "pullrequest_number = \"4509\" #@param {type:\"string\"}\n",
        "\n",
        "import os\n",
        "\n",
        "if not os.path.exists(\"/content/stable-diffusion-webui/\"):\n",
        "    %cd /content/\n",
        "    !git clone --depth 1 https://github.com/AUTOMATIC1111/stable-diffusion-webui stable-diffusion-webui\n",
        "\n",
        "%cd /content/stable-diffusion-webui/\n",
        "!git pull origin pull/{pullrequest_number}/head"
      ]
    },
    {
      "cell_type": "markdown",
      "metadata": {
        "id": "uN9_s8gosB6k"
      },
      "source": [
        "## Stable Diffusion Pickle Scanner: scan models for malware"
      ]
    },
    {
      "cell_type": "markdown",
      "metadata": {
        "id": "RDsu71NXsAG-"
      },
      "source": [
        "Scan .pt, .ckpt and .bin files for potentially malicious code\n",
        "\n",
        "Source: https://github.com/zxix/stable-diffusion-pickle-scanner\n",
        "\n"
      ]
    },
    {
      "cell_type": "code",
      "execution_count": null,
      "metadata": {
        "cellView": "form",
        "id": "ilqG0nESr8il"
      },
      "outputs": [],
      "source": [
        "scan_folder = \"/content/stable-diffusion-webui/models\" #@param {type:\"string\"}\n",
        "%cd /content/stable-diffusion-webui\n",
        "!wget https://raw.githubusercontent.com/zxix/stable-diffusion-pickle-scanner/main/pickle_scan.py\n",
        "!wget https://raw.githubusercontent.com/zxix/stable-diffusion-pickle-scanner/main/pickle_inspector.py\n",
        "\n",
        "!python pickle_scan.py {scan_folder}"
      ]
    },
    {
      "cell_type": "markdown",
      "metadata": {},
      "source": [
        "## Download a model from Huggingface with token\n",
        "\n",
        "If the above downloads without token didn't work, these models can be downloaded after accepting their license on Huggingface and entering the token here"
      ]
    },
    {
      "cell_type": "code",
      "execution_count": null,
      "metadata": {},
      "outputs": [],
      "source": [
        "huggingface_token = \"\" #@param {type:\"string\"}\n",
        "user_header = f\"\\\"Authorization: Bearer {huggingface_token}\\\"\"\n",
        "\n",
        "!mkdir -p /content/stable-diffusion-webui/models/Stable-diffusion\n",
        "%cd /content/stable-diffusion-webui/models/Stable-diffusion\n",
        "\n",
        "# model 1.5\n",
        "!wget --header={user_header} https://huggingface.co/runwayml/stable-diffusion-v1-5/resolve/main/v1-5-pruned.ckpt \n",
        "!wget --header={user_header} https://huggingface.co/stabilityai/sd-vae-ft-mse-original/resolve/main/vae-ft-mse-840000-ema-pruned.ckpt -O v1-5-pruned-emaonly.vae.pt \n",
        "\n",
        "# inpaint model 1.5\n",
        "!wget --header={user_header} https://huggingface.co/runwayml/stable-diffusion-inpainting/resolve/main/sd-v1-5-inpainting.ckpt"
      ]
    },
    {
      "cell_type": "markdown",
      "metadata": {
        "id": "-u8ZzN4UsnOP"
      },
      "source": [
        "## Download a model from Google Drive"
      ]
    },
    {
      "cell_type": "markdown",
      "metadata": {
        "id": "zmEY5AtZslMo"
      },
      "source": [
        "Copy the file ID from your url and paste it into the GOOGLE_FILE_ID text field below, before running this cell"
      ]
    },
    {
      "cell_type": "code",
      "execution_count": null,
      "metadata": {
        "cellView": "form",
        "id": "xiN0SUBlsi2L"
      },
      "outputs": [],
      "source": [
        "###########################################################\n",
        "google_file_id = \"1wHFgl0ivCmIZv88hVZXkb8oy9qCuaBGA\" #@param {type:\"string\"}\n",
        "download_folder = \"/content/stable-diffusion-webui/models/Stable-diffusion/\" #@param {type:\"string\"}\n",
        "###########################################################\n",
        "\n",
        "# above file ID is Stable Diffusion model 1.4. Replace it with the file ID of the model you want to download from Google Drive\n",
        "\n",
        "%cd {download_folder}\n",
        "url = \"https://drive.google.com/u/0/uc?id=\" + google_file_id + \"&export=download&confirm=t\"\n",
        "!gdown $url"
      ]
    },
    {
      "cell_type": "markdown",
      "metadata": {
        "id": "l0B_29tEtgdH"
      },
      "source": [
        "## Download a model from MEGA"
      ]
    },
    {
      "cell_type": "markdown",
      "metadata": {
        "id": "tiUsPDKRte7A"
      },
      "source": [
        "\n",
        "Change MEGA_DOWNLOAD_URL to the URL of the model, then run the cell\n",
        "\n",
        "Download can be very slow (>30 minutes for a 4GB model)"
      ]
    },
    {
      "cell_type": "code",
      "execution_count": null,
      "metadata": {
        "cellView": "form",
        "id": "_EWyenHstc-R"
      },
      "outputs": [],
      "source": [
        "##########################################################\n",
        "mega_download_url = \"https://mega.nz/file/mdcVARhL#FUq5TL2xp7FuzzgMS4B20sOYYnPZsyPMw93sPMHeQ78 \" #@param {type:\"string\"}\n",
        "download_folder = \"/content/stable-diffusion-webui/models/Stable-diffusion/\" #@param {type:\"string\"}\n",
        "##########################################################\n",
        "\n",
        "%cd {download_folder}\n",
        "\n",
        "%pip install mega.py\n",
        "from mega import Mega\n",
        "\n",
        "mega = Mega()\n",
        "print(\"Connecting to MEGA\")\n",
        "m = mega.login()\n",
        "print(\"Downloading file (no progress display available)\")\n",
        "m.download_url(mega_download_url)\n",
        "print(\"Download complete\")"
      ]
    },
    {
      "cell_type": "markdown",
      "metadata": {
        "id": "KchW1Dg1gZBs"
      },
      "source": [
        "## Dreambooth utility: Convert .ckpt to diffusers"
      ]
    },
    {
      "cell_type": "code",
      "execution_count": null,
      "metadata": {
        "id": "Fr4L6YcugZBs"
      },
      "outputs": [],
      "source": [
        "#@markdown Enter .ckpt path of the model you want to convert\n",
        "sd_ckpt_path = \"/content/stable-diffusion-webui/models/Stable-diffusion/gigachad_2000.ckpt\" #@param {type:\"string\"}\n",
        "#@markdown Enter path to the dreambooth models folder\n",
        "sd_dreambooth_path = \"/content/stable-diffusion-webui/models/dreambooth/\" #@param {type:\"string\"}\n",
        "#@markdown The name of the created model (select this in the webui Dreambooth tab)\n",
        "my_model_name = \"MyNewModel\" #@param {type:\"string\"}\n",
        "#@markdown Scheduler (don't change unless you know what you're doing)\n",
        "scheduler = \"ddim\" #@param {type:\"string\"}\n",
        "\n",
        "import os\n",
        "\n",
        "if os.path.exists(sd_ckpt_path):\n",
        "\n",
        "  dump_path = sd_dreambooth_path + my_model_name + \"/working\"\n",
        "  !mkdir -p {dump_path}\n",
        "\n",
        "  # install necessary packages\n",
        "  %pip install -qq omegaconf pytorch-lightning transformers ftfy\n",
        "\n",
        "  # get conversion script and start conversion\n",
        "  %cd /content/dreambooth_ext/\n",
        "  !wget https://raw.githubusercontent.com/ShivamShrirao/diffusers/main/scripts/convert_original_stable_diffusion_to_diffusers.py\n",
        "  !python convert_original_stable_diffusion_to_diffusers.py --checkpoint_path {sd_ckpt_path} --dump_path {dump_path}\n",
        "\n",
        "  # get v1-inference.yaml\n",
        "  %cd {dump_path}\n",
        "  !wget \"https://raw.githubusercontent.com/CompVis/stable-diffusion/main/configs/stable-diffusion/v1-inference.yaml\" -O v1-inference.yaml\n",
        "\n",
        "  # create db_config.json\n",
        "  json_content = '{\"model_name\": \"' + my_model_name + '\", \"scheduler\": \"' + scheduler + '\", \"src\": \"hax\", \"total_steps\": 0}'\n",
        "  #json_content = '{\"model_name\": \"' + my_model_name + '\", \"scheduler\": \"ddim\", \"src\": \"v1-5-pruned-emaonly.ckpt [81761151]\", \"total_steps\": 0}'\n",
        "\n",
        "  %cd ..\n",
        "  with open('db_config.json', 'w') as f:\n",
        "      f.write(json_content)\n",
        "\n",
        "else:\n",
        "  print('\u001b[1;31mFile not found:')\n",
        "  print(sd_ckpt_path)"
      ]
    },
    {
      "cell_type": "markdown",
      "metadata": {
        "id": "kq4nBjIvgZBs"
      },
      "source": [
        "## Dreambooth utility: Convert diffusers to .ckpt"
      ]
    },
    {
      "cell_type": "code",
      "execution_count": null,
      "metadata": {
        "id": "e0mG5_0sgZBs"
      },
      "outputs": [],
      "source": [
        "#@markdown ### (beta) Convert diffusers model to Stable Diffusion checkpoint\n",
        "#@markdown If you did a Dreambooth training on free Google Colab, the webui will crash when the training is complete, because there is not enough system RAM to convert the diffusers to a Stable Diffusion checkpoint\n",
        "\n",
        "#@markdown Use Google Colab Pro to prevent this\n",
        "\n",
        "#@markdown Run this cell to start the conversion\n",
        "\n",
        "#@markdown #### Select this option to copy the .ckpt file to your Google Drive\n",
        "\n",
        "copy_ckpt_to_gdrive = True #@param {type:\"boolean\"}\n",
        "\n",
        "#@markdown #### Enter the name of the model you created in Dreambooth extension\n",
        "\n",
        "my_model_name = \"MyNewModel\" #@param {type:\"string\"}\n",
        "\n",
        "if copy_ckpt_to_gdrive:\n",
        "    print(\"Give permission to access Google Drive\")\n",
        "    from google.colab import drive\n",
        "    drive.mount('/content/drive')\n",
        "\n",
        "%cd /content/dreambooth_ext/\n",
        "!wget https://raw.githubusercontent.com/ShivamShrirao/diffusers/main/scripts/convert_diffusers_to_original_stable_diffusion.py\n",
        "\n",
        "model_p = \"/content/stable-diffusion-webui/models/dreambooth/\" + my_model_name + \"/working\"\n",
        "ckpt_p = \"/content/stable-diffusion-webui/models/Stable-diffusion/\" + my_model_name + \".ckpt\"\n",
        "\n",
        "print(\"Converting diffusers to original Stable Diffusion checkpoint\")\n",
        "\n",
        "!python convert_diffusers_to_original_stable_diffusion.py --model_path {model_p} --checkpoint_path {ckpt_p}\n",
        "\n",
        "print(\"Saved checkpoint to \" + ckpt_p)\n",
        "\n",
        "if copy_ckpt_to_gdrive:\n",
        "  print(\"Copying \" + my_model_name + \".ckpt to Google Drive\")\n",
        "  !cp {ckpt_p} /content/drive/MyDrive/\n",
        "  print(\"Done\")"
      ]
    }
  ],
  "metadata": {
    "accelerator": "GPU",
    "colab": {
      "collapsed_sections": [
        "Cgc0C7uvsXN7",
        "sBFZK2uKN8LR"
      ],
      "private_outputs": true,
      "provenance": []
    },
    "gpuClass": "standard",
    "kernelspec": {
      "display_name": "Python 3",
      "name": "python3"
    },
    "language_info": {
      "name": "python"
    }
  },
  "nbformat": 4,
  "nbformat_minor": 0
}
