{
  "cells": [
    {
      "cell_type": "code",
      "execution_count": null,
      "metadata": {
        "vscode": {
          "languageId": "plaintext"
        }
      },
      "outputs": [],
      "source": [
        "!nvidia-smi\n",
        "\n",
        "!git clone https://github.com/uservar/stable-diffusion-webui\n",
        "%cd stable-diffusion-webui\n",
        "\n",
        "!sed -i -e 's/numpy==1.23.3/numpy==1.21.6/g' requirements_versions.txt\n",
        "!sed -i -e 's/fairscale==0.4.9/fairscale==0.4.6/g' requirements_versions.txt\n",
        "\n",
        "%cd /content/stable-diffusion-webui/models/Stable-diffusion/\n",
        "!wget https://huggingface.co/stabilityai/stable-diffusion-2-base/resolve/main/512-base-ema.ckpt\n",
        "#!wget https://huggingface.co/nitrosocke/Future-Diffusion/resolve/main/future-diffusion-v1.ckpt\n",
        "#!wget https://huggingface.co/stabilityai/stable-diffusion-2-inpainting/resolve/main/512-inpainting-ema.ckpt\n",
        "#!wget https://huggingface.co/stabilityai/stable-diffusion-2/resolve/main/768-v-ema.ckpt\n",
        "#!wget https://huggingface.co/stabilityai/stable-diffusion-2-inpainting/resolve/main/512-inpainting-ema.ckpt\n",
        "#!wget https://huggingface.co/stabilityai/stable-diffusion-2-depth/resolve/main/512-depth-ema.ckpt\n",
        "#!wget https://huggingface.co/stabilityai/stable-diffusion-x4-upscaler/resolve/main/x4-upscaler-ema.ckpt\n",
        "\n",
        "\n",
        "%cd /content/stable-diffusion-webui/\n",
        "!python launch.py --share"
      ]
    }
  ],
  "metadata": {
    "accelerator": "GPU",
    "colab": {
      "collapsed_sections": [
        "Cgc0C7uvsXN7",
        "sBFZK2uKN8LR"
      ],
      "private_outputs": true,
      "provenance": []
    },
    "gpuClass": "standard",
    "kernelspec": {
      "display_name": "Python 3",
      "name": "python3"
    },
    "language_info": {
      "name": "python"
    }
  },
  "nbformat": 4,
  "nbformat_minor": 0
}
